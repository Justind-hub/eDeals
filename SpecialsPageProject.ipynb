{
 "cells": [
  {
   "cell_type": "code",
   "execution_count": 18,
   "id": "bd203477",
   "metadata": {},
   "outputs": [],
   "source": [
    "import time\n",
    "from bs4 import BeautifulSoup\n",
    "import csv\n",
    "import selenium \n",
    "from selenium import webdriver\n",
    "from selenium.webdriver.common.keys import Keys\n",
    "from selenium.webdriver.common.by import By\n",
    "from selenium.webdriver.chrome.service import Service\n",
    "from webdriver_manager.chrome import ChromeDriverManager\n",
    "\n",
    "service = Service(ChromeDriverManager().install())"
   ]
  },
  {
   "cell_type": "code",
   "execution_count": 16,
   "id": "975b552a",
   "metadata": {},
   "outputs": [],
   "source": [
    "# File Paths\n",
    "STORELIST = \"storelist.xlsx\"\n",
    "EXPORT = \"export.xlsx\"\n",
    "EXPORT_CSV = \"export.csv\""
   ]
  },
  {
   "cell_type": "code",
   "execution_count": 3,
   "id": "4873f61a",
   "metadata": {},
   "outputs": [],
   "source": [
    "specials_page = []\n",
    "\n",
    "def getspecials(url, StoreID):\n",
    "    #Launch Chrome\n",
    "    driver = webdriver.Chrome(service=service)\n",
    "\n",
    "    # Go To Store Main Menu\n",
    "    #URL = \"https://www.papajohns.com/order/viewStoreMenu/CARRYOUT/BUSINESS/190/\"\n",
    "    driver.get(url)\n",
    "    time.sleep(1)\n",
    "\n",
    "    #Close Cookies Window\n",
    "    ccb = driver.find_element(By.XPATH, '//*[@id=\"onetrust-close-btn-container\"]/button')\n",
    "    ccb.click()\n",
    "    time.sleep(1)\n",
    "\n",
    "    #Close LTO Window\n",
    "    #cjb = driver.find_element(By.XPATH, '//*[@id=\"pizza-img\"]/div[2]/div/button')\n",
    "    #cjb.click()\n",
    "    #time.sleep(2)\n",
    "\n",
    "    #Go To Specials Page\n",
    "    spl = driver.find_element(By.XPATH, '/html/body/div[2]/header/section[2]/nav/ul/li[2]/a')\n",
    "    spl.click()\n",
    "    time.sleep(3)\n",
    "\n",
    "    #Locate & Parse Specials HTML\n",
    "    html = driver.page_source\n",
    "    soup = BeautifulSoup(html,'html.parser')\n",
    "    cards = soup.find_all('div',{'class':'card-details'})\n",
    "\n",
    "    #Extract Offers & Prices\n",
    "    for card in cards:\n",
    "        data_dict              = {}\n",
    "        data_dict['store']     = StoreID\n",
    "        data_dict['offer']     = card.find('h2').text\n",
    "        data_dict['description'] = card.find('p',{'class':'description'}).text\n",
    "        try:\n",
    "            data_dict['price']     = card.find('span',{'class':'price'}).text\n",
    "        except:\n",
    "            data_dict['price']     = card.find('span',{'class':'price'})\n",
    "        specials_page.append(data_dict)\n",
    "    time.sleep(1)\n",
    "    driver.close()"
   ]
  },
  {
   "cell_type": "code",
   "execution_count": 6,
   "id": "1c74a5c9",
   "metadata": {},
   "outputs": [],
   "source": [
    "#Generate Store List\n",
    "pathing = pd.read_excel(STORELIST)\n",
    "pathing_list = pathing['Store#'].tolist()"
   ]
  },
  {
   "cell_type": "code",
   "execution_count": 7,
   "id": "fe56b333",
   "metadata": {},
   "outputs": [
    {
     "name": "stdout",
     "output_type": "stream",
     "text": [
      "https://www.papajohns.com/order/viewStoreMenu/CARRYOUT/BUSINESS/1740/\n",
      "https://www.papajohns.com/order/viewStoreMenu/CARRYOUT/BUSINESS/1743/\n",
      "https://www.papajohns.com/order/viewStoreMenu/CARRYOUT/BUSINESS/2172/\n",
      "https://www.papajohns.com/order/viewStoreMenu/CARRYOUT/BUSINESS/2174/\n"
     ]
    }
   ],
   "source": [
    "for store in pathing_list:\n",
    "    url = f\"https://www.papajohns.com/order/viewStoreMenu/CARRYOUT/BUSINESS/\" + str(store) +\"/\"\n",
    "    StoreID = str(store)\n",
    "    getspecials(url, StoreID)\n",
    "    print(url)"
   ]
  },
  {
   "cell_type": "code",
   "execution_count": 27,
   "id": "da2c3cc4",
   "metadata": {},
   "outputs": [],
   "source": [
    "with open(EXPORT_CSV, mode='w',newline='') as csv_file:\n",
    "    headers = ['store','offer','description','price']\n",
    "    writer = csv.DictWriter(csv_file, fieldnames=headers)\n",
    "    writer.writeheader()\n",
    "    writer.writerows(specials_page)\n",
    "    \n",
    "    \n"
   ]
  },
  {
   "cell_type": "code",
   "execution_count": null,
   "id": "57d970b5",
   "metadata": {},
   "outputs": [],
   "source": []
  },
  {
   "cell_type": "code",
   "execution_count": 22,
   "id": "df6bd283",
   "metadata": {},
   "outputs": [
    {
     "name": "stdout",
     "output_type": "stream",
     "text": [
      "{'store': '1740', 'offer': 'Garlic Epic Stuffed Crust: A pizza inspired by you', 'description': 'Garlic sauce fans, you inspired us! We transformed your love for our garlic sauce into our pizza. Enjoy a 1-topping Garlic Epic Stuffed Crust pizza with garlicky goodness inside the cheesy crust, drizzled onto it, and served on the side.', 'price': ' $13.99 '}\n",
      "{'store': '1740', 'offer': 'Calzone Papa Bites', 'description': ' Indulge in our Calzone Papa Bites. Packed with a blend of mozzarella and garlic herb ricotta, pepperoni, Italian sausage, and green peppers inside our fresh original dough. Served with original pizza sauce on the side for even more calzone flavor. ', 'price': '$ 4.99 '}\n",
      "{'store': '1740', 'offer': 'Papa Pairings', 'description': ' Craving what you see? Our newest addition to your Papa Pairings possibilities: Wings! Get any of these and more delectable Papa Johns favorites for just $6.99 each when you pair two or more. ', 'price': '$ 6.99 '}\n",
      "{'store': '1740', 'offer': 'Large 1 Topping Pizza for $9.99  Carryout Only!', 'description': ' Large 1 Topping Pizza for $9.99  Carryout Only! ', 'price': '$ 9.99 '}\n",
      "{'store': '1740', 'offer': 'Large 1-Topping Pizza', 'description': ' Large 1 Topping Pizza for only 12.99, Delivery Only. ', 'price': '$ 12.99 '}\n",
      "{'store': '1740', 'offer': 'Carryout Offer - Large 5-topping or specialty', 'description': ' Large Specialty or up to 5 topping pizza ', 'price': '$ 14.99 '}\n",
      "{'store': '1740', 'offer': 'Epic Stuffed Crust 1-Topping Pizza', 'description': ' Epic Stuff Crust 1-Topping Pizza for ONLY $15.99 ', 'price': '$ 15.99 '}\n",
      "{'store': '1740', 'offer': 'Any 10\" Only $10', 'description': ' Any 10\" original crust specialty or up to 5-topping pizza ONLY $10 ', 'price': '$ 10 '}\n",
      "{'store': '1740', 'offer': 'Any Large Pizza - Up to 5 Toppings or Specialty', 'description': ' Enjoy your favorite specialty or any 5-topping pizza on our large original or thin crust pizza for only $18.99! ', 'price': '$ 18.99 '}\n",
      "{'store': '1740', 'offer': 'Small Deal', 'description': ' Small Three Topping Pizza ', 'price': '$ 9.99 '}\n",
      "{'store': '1740', 'offer': 'Any Medium Specialty Or 5-Topping', 'description': ' Any Medium Specialty or 5-Topping Pizza ', 'price': '$ 13.99 '}\n",
      "{'store': '1740', 'offer': ' Extra Large 2-topping Pizza', 'description': ' Extra Large Two Topping Pizza ', 'price': '$ 17.99 '}\n",
      "{'store': '1740', 'offer': '2 Large 2-Topping Pizzas', 'description': ' Two Large 2 Topping Pizzas ', 'price': '$ 25.98 '}\n",
      "{'store': '1740', 'offer': 'NY-Style 1-Topping Pizza', 'description': ' New York Style 1-Topping Pizza ', 'price': '$ 15.99 '}\n",
      "{'store': '1740', 'offer': 'Family Special', 'description': ' Any large specialty or 5-topping pizza and a large 2-topping pizza ', 'price': '$ 29.99 '}\n",
      "{'store': '1740', 'offer': 'Any Large EPIC STUFFED CRUST', 'description': ' Any large EPIC STUFFED Crust with up to 5 toppings or Specialty pizza ', 'price': '$ 20.99 '}\n",
      "{'store': '1740', 'offer': 'Cheesy Calzone Epic Stuffed Crust Pizza', 'description': ' We know how to hand stuff our crust with the best flavor combos. Experience calzone flavors like never before, this pizza is made with a blend of mozzarella and garlic herb ricotta stuffed into the crust. Comes with your choice of 1 topping. ', 'price': '$ 14.99 '}\n",
      "{'store': '1743', 'offer': 'Garlic Epic Stuffed Crust: A pizza inspired by you', 'description': 'Garlic sauce fans, you inspired us! We transformed your love for our garlic sauce into our pizza. Enjoy a 1-topping Garlic Epic Stuffed Crust pizza with garlicky goodness inside the cheesy crust, drizzled onto it, and served on the side.', 'price': ' $13.99 '}\n",
      "{'store': '1743', 'offer': 'Calzone Papa Bites', 'description': ' Indulge in our Calzone Papa Bites. Packed with a blend of mozzarella and garlic herb ricotta, pepperoni, Italian sausage, and green peppers inside our fresh original dough. Served with original pizza sauce on the side for even more calzone flavor. ', 'price': '$ 4.99 '}\n",
      "{'store': '1743', 'offer': 'Papa Pairings', 'description': ' Craving what you see? Our newest addition to your Papa Pairings possibilities: Wings! Get any of these and more delectable Papa Johns favorites for just $6.99 each when you pair two or more. ', 'price': '$ 6.99 '}\n",
      "{'store': '1743', 'offer': 'Large 1 Topping Pizza for $9.99  Carryout Only!', 'description': ' Large 1 Topping Pizza for $9.99  Carryout Only! ', 'price': '$ 9.99 '}\n",
      "{'store': '1743', 'offer': 'Large 1-Topping Pizza', 'description': ' Large 1 Topping Pizza for only 12.99, Delivery Only. ', 'price': '$ 12.99 '}\n",
      "{'store': '1743', 'offer': 'Carryout Offer - Large 5-topping or specialty', 'description': ' Large Specialty or up to 5 topping pizza ', 'price': '$ 14.99 '}\n",
      "{'store': '1743', 'offer': 'Epic Stuffed Crust 1-Topping Pizza', 'description': ' Epic Stuff Crust 1-Topping Pizza for ONLY $15.99 ', 'price': '$ 15.99 '}\n",
      "{'store': '1743', 'offer': 'Any 10\" Only $10', 'description': ' Any 10\" original crust specialty or up to 5-topping pizza ONLY $10 ', 'price': '$ 10 '}\n",
      "{'store': '1743', 'offer': 'Any Large Pizza - Up to 5 Toppings or Specialty', 'description': ' Enjoy your favorite specialty or any 5-topping pizza on our large original or thin crust pizza for only $18.99! ', 'price': '$ 18.99 '}\n",
      "{'store': '1743', 'offer': 'Small Deal', 'description': ' Small Three Topping Pizza ', 'price': '$ 9.99 '}\n",
      "{'store': '1743', 'offer': 'Any Medium Specialty Or 5-Topping', 'description': ' Any Medium Specialty or 5-Topping Pizza ', 'price': '$ 13.99 '}\n",
      "{'store': '1743', 'offer': ' Extra Large 2-topping Pizza', 'description': ' Extra Large Two Topping Pizza ', 'price': '$ 17.99 '}\n",
      "{'store': '1743', 'offer': '2 Large 2-Topping Pizzas', 'description': ' Two Large 2 Topping Pizzas ', 'price': '$ 25.98 '}\n",
      "{'store': '1743', 'offer': 'NY-Style 1-Topping Pizza', 'description': ' New York Style 1-Topping Pizza ', 'price': '$ 15.99 '}\n",
      "{'store': '1743', 'offer': 'Family Special', 'description': ' Any large specialty or 5-topping pizza and a large 2-topping pizza ', 'price': '$ 29.99 '}\n",
      "{'store': '1743', 'offer': 'Any Large EPIC STUFFED CRUST', 'description': ' Any large EPIC STUFFED Crust with up to 5 toppings or Specialty pizza ', 'price': '$ 20.99 '}\n",
      "{'store': '1743', 'offer': 'Cheesy Calzone Epic Stuffed Crust Pizza', 'description': ' We know how to hand stuff our crust with the best flavor combos. Experience calzone flavors like never before, this pizza is made with a blend of mozzarella and garlic herb ricotta stuffed into the crust. Comes with your choice of 1 topping. ', 'price': '$ 14.99 '}\n",
      "{'store': '2172', 'offer': 'Garlic Epic Stuffed Crust: A pizza inspired by you', 'description': 'Garlic sauce fans, you inspired us! We transformed your love for our garlic sauce into our pizza. Enjoy a 1-topping Garlic Epic Stuffed Crust pizza with garlicky goodness inside the cheesy crust, drizzled onto it, and served on the side.', 'price': ' $13.99 '}\n",
      "{'store': '2172', 'offer': 'Calzone Papa Bites', 'description': ' Indulge in our Calzone Papa Bites. Packed with a blend of mozzarella and garlic herb ricotta, pepperoni, Italian sausage, and green peppers inside our fresh original dough. Served with original pizza sauce on the side for even more calzone flavor. ', 'price': '$ 4.99 '}\n",
      "{'store': '2172', 'offer': 'Papa Pairings', 'description': ' Craving what you see? Our newest addition to your Papa Pairings possibilities: Wings! Get any of these and more delectable Papa Johns favorites for just $6.99 each when you pair two or more. ', 'price': '$ 6.99 '}\n",
      "{'store': '2172', 'offer': 'Large 1 Topping Pizza for $9.99  Carryout Only!', 'description': ' Large 1 Topping Pizza for $9.99  Carryout Only! ', 'price': '$ 9.99 '}\n",
      "{'store': '2172', 'offer': 'Large 1-Topping Pizza', 'description': ' Large 1 Topping Pizza for only 12.99, Delivery Only. ', 'price': '$ 12.99 '}\n",
      "{'store': '2172', 'offer': 'Carryout Offer - Large 5-topping or specialty', 'description': ' Large Specialty or up to 5 topping pizza ', 'price': '$ 14.99 '}\n",
      "{'store': '2172', 'offer': 'Epic Stuffed Crust 1-Topping Pizza', 'description': ' Epic Stuff Crust 1-Topping Pizza for ONLY $15.99 ', 'price': '$ 15.99 '}\n",
      "{'store': '2172', 'offer': 'Any 10\" Only $10', 'description': ' Any 10\" original crust specialty or up to 5-topping pizza ONLY $10 ', 'price': '$ 10 '}\n",
      "{'store': '2172', 'offer': 'Any Large Pizza - Up to 5 Toppings or Specialty', 'description': ' Enjoy your favorite specialty or any 5-topping pizza on our large original or thin crust pizza for only $18.99! ', 'price': '$ 18.99 '}\n",
      "{'store': '2172', 'offer': 'Small Deal', 'description': ' Small Three Topping Pizza ', 'price': '$ 9.99 '}\n",
      "{'store': '2172', 'offer': 'Any Medium Specialty Or 5-Topping', 'description': ' Any Medium Specialty or 5-Topping Pizza ', 'price': '$ 13.99 '}\n",
      "{'store': '2172', 'offer': ' Extra Large 2-topping Pizza', 'description': ' Extra Large Two Topping Pizza ', 'price': '$ 17.99 '}\n",
      "{'store': '2172', 'offer': '2 Large 2-Topping Pizzas', 'description': ' Two Large 2 Topping Pizzas ', 'price': '$ 25.98 '}\n",
      "{'store': '2172', 'offer': 'NY-Style 1-Topping Pizza', 'description': ' New York Style 1-Topping Pizza ', 'price': '$ 15.99 '}\n",
      "{'store': '2172', 'offer': 'Family Special', 'description': ' Any large specialty or 5-topping pizza and a large 2-topping pizza ', 'price': '$ 29.99 '}\n",
      "{'store': '2172', 'offer': 'Any Large EPIC STUFFED CRUST', 'description': ' Any large EPIC STUFFED Crust with up to 5 toppings or Specialty pizza ', 'price': '$ 20.99 '}\n",
      "{'store': '2172', 'offer': 'Cheesy Calzone Epic Stuffed Crust Pizza', 'description': ' We know how to hand stuff our crust with the best flavor combos. Experience calzone flavors like never before, this pizza is made with a blend of mozzarella and garlic herb ricotta stuffed into the crust. Comes with your choice of 1 topping. ', 'price': '$ 14.99 '}\n",
      "{'store': '2174', 'offer': 'Garlic Epic Stuffed Crust: A pizza inspired by you', 'description': 'Garlic sauce fans, you inspired us! We transformed your love for our garlic sauce into our pizza. Enjoy a 1-topping Garlic Epic Stuffed Crust pizza with garlicky goodness inside the cheesy crust, drizzled onto it, and served on the side.', 'price': ' $13.99 '}\n",
      "{'store': '2174', 'offer': 'Calzone Papa Bites', 'description': ' Indulge in our Calzone Papa Bites. Packed with a blend of mozzarella and garlic herb ricotta, pepperoni, Italian sausage, and green peppers inside our fresh original dough. Served with original pizza sauce on the side for even more calzone flavor. ', 'price': '$ 4.99 '}\n",
      "{'store': '2174', 'offer': 'Papa Pairings', 'description': ' Craving what you see? Our newest addition to your Papa Pairings possibilities: Wings! Get any of these and more delectable Papa Johns favorites for just $6.99 each when you pair two or more. ', 'price': '$ 6.99 '}\n",
      "{'store': '2174', 'offer': 'Large 1 Topping Pizza for $9.99  Carryout Only!', 'description': ' Large 1 Topping Pizza for $9.99  Carryout Only! ', 'price': '$ 9.99 '}\n",
      "{'store': '2174', 'offer': 'Large 1-Topping Pizza', 'description': ' Large 1 Topping Pizza for only 12.99, Delivery Only. ', 'price': '$ 12.99 '}\n",
      "{'store': '2174', 'offer': 'Carryout Offer - Large 5-topping or specialty', 'description': ' Large Specialty or up to 5 topping pizza ', 'price': '$ 14.99 '}\n",
      "{'store': '2174', 'offer': 'Epic Stuffed Crust 1-Topping Pizza', 'description': ' Epic Stuff Crust 1-Topping Pizza for ONLY $15.99 ', 'price': '$ 15.99 '}\n",
      "{'store': '2174', 'offer': 'Any 10\" Only $10', 'description': ' Any 10\" original crust specialty or up to 5-topping pizza ONLY $10 ', 'price': '$ 10 '}\n",
      "{'store': '2174', 'offer': 'Any Large Pizza - Up to 5 Toppings or Specialty', 'description': ' Enjoy your favorite specialty or any 5-topping pizza on our large original or thin crust pizza for only $18.99! ', 'price': '$ 18.99 '}\n",
      "{'store': '2174', 'offer': 'Small Deal', 'description': ' Small Three Topping Pizza ', 'price': '$ 9.99 '}\n",
      "{'store': '2174', 'offer': 'Any Medium Specialty Or 5-Topping', 'description': ' Any Medium Specialty or 5-Topping Pizza ', 'price': '$ 13.99 '}\n",
      "{'store': '2174', 'offer': ' Extra Large 2-topping Pizza', 'description': ' Extra Large Two Topping Pizza ', 'price': '$ 17.99 '}\n",
      "{'store': '2174', 'offer': '2 Large 2-Topping Pizzas', 'description': ' Two Large 2 Topping Pizzas ', 'price': '$ 25.98 '}\n",
      "{'store': '2174', 'offer': 'NY-Style 1-Topping Pizza', 'description': ' New York Style 1-Topping Pizza ', 'price': '$ 15.99 '}\n",
      "{'store': '2174', 'offer': 'Family Special', 'description': ' Any large specialty or 5-topping pizza and a large 2-topping pizza ', 'price': '$ 29.99 '}\n",
      "{'store': '2174', 'offer': 'Any Large EPIC STUFFED CRUST', 'description': ' Any large EPIC STUFFED Crust with up to 5 toppings or Specialty pizza ', 'price': '$ 20.99 '}\n",
      "{'store': '2174', 'offer': 'Cheesy Calzone Epic Stuffed Crust Pizza', 'description': ' We know how to hand stuff our crust with the best flavor combos. Experience calzone flavors like never before, this pizza is made with a blend of mozzarella and garlic herb ricotta stuffed into the crust. Comes with your choice of 1 topping. ', 'price': '$ 14.99 '}\n"
     ]
    }
   ],
   "source": []
  }
 ],
 "metadata": {
  "kernelspec": {
   "display_name": "Python 3 (ipykernel)",
   "language": "python",
   "name": "python3"
  },
  "language_info": {
   "codemirror_mode": {
    "name": "ipython",
    "version": 3
   },
   "file_extension": ".py",
   "mimetype": "text/x-python",
   "name": "python",
   "nbconvert_exporter": "python",
   "pygments_lexer": "ipython3",
   "version": "3.11.7"
  }
 },
 "nbformat": 4,
 "nbformat_minor": 5
}
